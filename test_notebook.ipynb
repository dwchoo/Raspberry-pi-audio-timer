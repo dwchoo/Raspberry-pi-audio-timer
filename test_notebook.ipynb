{
 "cells": [
  {
   "cell_type": "code",
   "execution_count": null,
   "metadata": {},
   "outputs": [],
   "source": [
    "%load_ext autoreload\n",
    "%autoreload 2"
   ]
  },
  {
   "cell_type": "code",
   "execution_count": null,
   "metadata": {},
   "outputs": [],
   "source": [
    "import RPi.GPIO as GPIO\n",
    "import time\n",
    "import pygame\n",
    "from pygame import mixer\n",
    "\n",
    "frq = 44100\n",
    "bitsize = -16\n",
    "channels = 2\n",
    "buffer = 4096\n",
    "\n"
   ]
  },
  {
   "cell_type": "code",
   "execution_count": null,
   "metadata": {},
   "outputs": [],
   "source": [
    "GPIO.setmode(GPIO.BCM)\n",
    "GPIO.setup(4, GPIO.IN, pull_up_down = GPIO.PUD_DOWN)\n",
    "GPIO.setup(27, GPIO.IN, pull_up_down = GPIO.PUD_DOWN)\n",
    "GPIO.setup(17, GPIO.OUT)\n",
    "try:\n",
    "    while True:\n",
    "        input_switch = GPIO.input(4)\n",
    "        \n",
    "        print(\"\\r{}\".format(input_switch),end=\"\")\n",
    "\n",
    "\n",
    "finally:\n",
    "    GPIO.cleanup()\n",
    "    print(\"clean up\")"
   ]
  },
  {
   "cell_type": "code",
   "execution_count": null,
   "metadata": {},
   "outputs": [],
   "source": [
    "input_switch"
   ]
  },
  {
   "cell_type": "code",
   "execution_count": null,
   "metadata": {},
   "outputs": [],
   "source": [
    "GPIO.setmode(GPIO.BCM)\n",
    "GPIO.setup(4, GPIO.IN, pull_up_down = GPIO.PUD_DOWN)\n",
    "GPIO.setup(27, GPIO.IN, pull_up_down = GPIO.PUD_DOWN)\n",
    "GPIO.setup(17, GPIO.OUT)\n",
    "try:\n",
    "    while True:\n",
    "        input_switch = GPIO.input(4)\n",
    "        \n",
    "        print(\"\\r\",input_switch,end=\"\")\n",
    "        time.sleep(0.5)\n",
    "\n",
    "        if input_switch == True:\n",
    "            print('\\rLED on-',end=\"\")\n",
    "            GPIO.output(17, True)\n",
    "            time.sleep(1)\n",
    "        else:\n",
    "            print('\\rLED off',end=\"\")\n",
    "            GPIO.output(17, False)\n",
    "            time.sleep(1)\n",
    "\n",
    "\n",
    "finally:\n",
    "    GPIO.cleanup()\n",
    "    print(\"clean up\")"
   ]
  },
  {
   "cell_type": "code",
   "execution_count": null,
   "metadata": {},
   "outputs": [],
   "source": [
    "frq = 44100\n",
    "bitsize = -16\n",
    "channels = 2\n",
    "buffer = 1024\n",
    "\n",
    "music_file_1 = 'Music/brownworship.mp3'\n",
    "music_file_2 = 'Music/brownworship_2.mp3'\n",
    "try:\n",
    "    sound_mixer = mixer\n",
    "    sound_mixer.init(frequency = frq,\n",
    "              size = bitsize,\n",
    "              channels = channels,\n",
    "              buffer = buffer)\n",
    "\n",
    "    start_music = sound_mixer.music\n",
    "    start_music.load(music_file_1)\n",
    "    \n",
    "    start_music.play(loops=1, start=0)\n",
    "    \n",
    "    while sound_mixer.music.get_busy() == True:\n",
    "        pygame.time.delay(500)\n",
    "        #time.sleep(0.5)\n",
    "        continue\n",
    "        \n",
    "    \n",
    "finally:\n",
    "    print('finish!')\n",
    "    sound_mixer.quit()\n"
   ]
  },
  {
   "cell_type": "code",
   "execution_count": null,
   "metadata": {},
   "outputs": [],
   "source": [
    "frq = 44100\n",
    "bitsize = -16\n",
    "channels = 2\n",
    "buffer = 1024\n",
    "\n",
    "#sound_file_1 = 'Music/brownworship.wav'\n",
    "sound_file_1 = 'Music/brownworship.ogg'\n",
    "#sound_file_2 = 'Music/brownworship_2.wav'\n",
    "sound_file_2 = 'Music/brownworship_2.ogg'\n",
    "\n",
    "try:\n",
    "    mixer.init(frequency = frq,\n",
    "              size = bitsize,\n",
    "              channels = channels,\n",
    "              buffer = buffer)\n",
    "\n",
    "    mixer.set_num_channels(2)\n",
    "\n",
    "    sound_1 = mixer.Sound(sound_file_1)\n",
    "    sound_2 = mixer.Sound(sound_file_2)\n",
    "\n",
    "    channel_1 = mixer.Channel(0)\n",
    "    channel_2 = mixer.Channel(1)\n",
    "\n",
    "    channel_1.play(sound_1, loops= -1)\n",
    "    #channel_2.play(sound_2)\n",
    "\n",
    "\n",
    "    \n",
    "    while channel_1.get_busy() or channel_2.get_busy() == True:\n",
    "        pygame.time.delay(500)\n",
    "        #time.sleep(0.5)\n",
    "        continue\n",
    "        \n",
    "    \n",
    "finally:\n",
    "    print('finish!')\n",
    "    mixer.quit()\n",
    "\n"
   ]
  },
  {
   "cell_type": "code",
   "execution_count": null,
   "metadata": {},
   "outputs": [],
   "source": []
  },
  {
   "cell_type": "code",
   "execution_count": null,
   "metadata": {},
   "outputs": [],
   "source": [
    "GPIO.setmode(GPIO.BCM)\n",
    "GPIO.setup(4, GPIO.IN, pull_up_down=GPIO.PUD_DOWN)\n",
    "GPIO.setup(27, GPIO.IN, pull_up_down=GPIO.PUD_DOWN)\n",
    "GPIO.setup(17, GPIO.OUT)\n",
    "\n",
    "\n",
    "#sound_file_1 = 'Music/brownworship.wav'\n",
    "sound_file_1 = 'Music/brownworship.ogg'\n",
    "#sound_file_2 = 'Music/brownworship_2.wav'\n",
    "sound_file_2 = 'Music/brownworship_2.ogg'\n",
    "\n",
    "frq = 44100\n",
    "bitsize = -16\n",
    "channels = 2\n",
    "buffer = 1024\n",
    "\n",
    "\n",
    "\n",
    "mixer.init(frequency = frq,\n",
    "              size = bitsize,\n",
    "              channels = channels,\n",
    "              buffer = buffer)\n",
    "\n",
    "mixer.set_num_channels(2)\n",
    "\n",
    "sound_1 = mixer.Sound(sound_file_1)\n",
    "sound_2 = mixer.Sound(sound_file_2)\n",
    "\n",
    "channel_1 = mixer.Channel(0)\n",
    "channel_2 = mixer.Channel(1)\n",
    "\n",
    "\n",
    "try:\n",
    "    play_music = False\n",
    "    \n",
    "    while True:\n",
    "        input_switch = GPIO.input(4)\n",
    "        \n",
    "        #print(input_switch)\n",
    "        time.sleep(0.1)\n",
    "\n",
    "        if input_switch == True:\n",
    "            print('\\nLED on')\n",
    "            GPIO.output(17, True)\n",
    "            play_music = True\n",
    "            \n",
    "            print(\"Play music!!\")\n",
    "            channel_1.play(sound_1, loops= -1,\n",
    "                           #maxtime = int(15e3),\n",
    "                           fade_ms = int(10e3))\n",
    "            \n",
    "            while channel_1.get_busy() or channel_2.get_busy() == True:\n",
    "                pygame.time.delay(500)\n",
    "                reset_switch = GPIO.input(27)\n",
    "                #print(reset_switch)\n",
    "                if reset_switch == True:\n",
    "                    print('mixer fadeout')\n",
    "                    channel_1.fadeout(int(5e3))\n",
    "                    break\n",
    "                continue\n",
    "            print(\"Music finish\")\n",
    "            time.sleep(1)\n",
    "\n",
    "        print('\\rLED off', end=\"\")\n",
    "        GPIO.output(17, False)\n",
    "        time.sleep(0.5)\n",
    "\n",
    "\n",
    "finally:\n",
    "    GPIO.cleanup()\n",
    "    print(\"clean up\")\n",
    "    mixer.quit()\n",
    "    print('mixer release')"
   ]
  },
  {
   "cell_type": "code",
   "execution_count": null,
   "metadata": {},
   "outputs": [],
   "source": [
    "channel_1.play(sound_1)"
   ]
  },
  {
   "cell_type": "code",
   "execution_count": null,
   "metadata": {},
   "outputs": [],
   "source": [
    "sound_1.get_length()"
   ]
  },
  {
   "cell_type": "code",
   "execution_count": null,
   "metadata": {},
   "outputs": [],
   "source": [
    "mixer.quit()"
   ]
  },
  {
   "cell_type": "code",
   "execution_count": null,
   "metadata": {},
   "outputs": [],
   "source": []
  },
  {
   "cell_type": "raw",
   "metadata": {},
   "source": [
    "pygame.mixer.music.play() 호출 후 while 루프가 없다면 콘솔에서는 mp3 파일이 플레이되지 않는다(기다리지 않고 프로그램을 종료하기 때문). 하지만 Python interpreter로 실행할 때는 없어도 무관하다."
   ]
  },
  {
   "cell_type": "code",
   "execution_count": null,
   "metadata": {},
   "outputs": [],
   "source": [
    "mixer.music.play()\n",
    "mixer.music.fadeout(int(10e3))"
   ]
  },
  {
   "cell_type": "code",
   "execution_count": null,
   "metadata": {},
   "outputs": [],
   "source": [
    "mixer.music.play()"
   ]
  },
  {
   "cell_type": "code",
   "execution_count": null,
   "metadata": {},
   "outputs": [],
   "source": [
    "mixer.music.rewind()\n",
    "#mixer.music.play()"
   ]
  },
  {
   "cell_type": "code",
   "execution_count": null,
   "metadata": {},
   "outputs": [],
   "source": [
    "mixer.music.stop()\n",
    "#mixer.music.fadeout(100)"
   ]
  },
  {
   "cell_type": "code",
   "execution_count": null,
   "metadata": {},
   "outputs": [],
   "source": [
    "mixer.music.pause()"
   ]
  },
  {
   "cell_type": "code",
   "execution_count": null,
   "metadata": {},
   "outputs": [],
   "source": [
    "mixer.music.unpause()"
   ]
  },
  {
   "cell_type": "code",
   "execution_count": null,
   "metadata": {},
   "outputs": [],
   "source": [
    "mixer.quit()"
   ]
  },
  {
   "cell_type": "code",
   "execution_count": null,
   "metadata": {},
   "outputs": [],
   "source": []
  },
  {
   "cell_type": "code",
   "execution_count": null,
   "metadata": {},
   "outputs": [],
   "source": []
  },
  {
   "cell_type": "code",
   "execution_count": 10,
   "metadata": {},
   "outputs": [],
   "source": [
    "from datetime import datetime\n",
    "import time\n",
    "import threading"
   ]
  },
  {
   "cell_type": "code",
   "execution_count": 11,
   "metadata": {},
   "outputs": [
    {
     "name": "stdout",
     "output_type": "stream",
     "text": [
      "19\n",
      "32\n"
     ]
    }
   ],
   "source": [
    "now = datetime.now()\n",
    "print(now.hour)\n",
    "print(now.minute)"
   ]
  },
  {
   "cell_type": "code",
   "execution_count": 12,
   "metadata": {},
   "outputs": [],
   "source": [
    "def test_print():\n",
    "    if int(datetime.now().minute) == 33:\n",
    "        print(datetime.now())\n",
    "        return True\n",
    "    return False\n",
    "    \n",
    "def display():\n",
    "    while True:\n",
    "        if test_print():\n",
    "            break\n",
    "        print(\"\\rProgram is running |\",end=\"\")\n",
    "        time.sleep(go_time)\n",
    "        print(\"\\rProgram is running /\",end=\"\")\n",
    "        time.sleep(go_time)\n",
    "        print(\"\\rProgram is running -\",end=\"\")\n",
    "        time.sleep(go_time)\n",
    "        print(\"\\rProgram is running |\",end=\"\")\n",
    "        time.sleep(go_time)\n",
    "        print(\"\\rProgram is running /\",end=\"\")\n",
    "        time.sleep(go_time)\n",
    "        print(\"\\rProgram is running -\",end=\"\")\n",
    "        time.sleep(go_time)\n",
    "        print(\"\\rProgram is running \\\\\",end=\"\")\n",
    "        time.sleep(go_time)\n",
    "    pass"
   ]
  },
  {
   "cell_type": "code",
   "execution_count": 13,
   "metadata": {},
   "outputs": [
    {
     "name": "stdout",
     "output_type": "stream",
     "text": [
      "Program is running \\2020-01-25 19:33:01.387706\n"
     ]
    }
   ],
   "source": [
    "#th = threading.Thread(target=test_print, name=\"[Daemon]\")\n",
    "#th.setDaemon(True)\n",
    "#th.start()\n",
    "#th.join()\n",
    "\n",
    "th2 = threading.Thread(target=display, name=\"[display]\")\n",
    "th2.setDaemon(True)\n",
    "th2.start()\n",
    "th2.join()\n"
   ]
  },
  {
   "cell_type": "code",
   "execution_count": 34,
   "metadata": {},
   "outputs": [
    {
     "name": "stdout",
     "output_type": "stream",
     "text": [
      "5\n"
     ]
    }
   ],
   "source": [
    "print(datetime.now().weekday())"
   ]
  },
  {
   "cell_type": "code",
   "execution_count": 29,
   "metadata": {},
   "outputs": [
    {
     "data": {
      "text/plain": [
       "'\\ngo_time = 0.5\\nnow = datetime.now()\\nprint(\"\\rProgram is running |\",end=\"\")\\ntime.sleep(go_time)\\nprint(\"\\rProgram is running /\",end=\"\")\\ntime.sleep(go_time)\\nprint(\"\\rProgram is running -\",end=\"\")\\ntime.sleep(go_time)\\nprint(\"\\rProgram is running |\",end=\"\")\\ntime.sleep(go_time)\\nprint(\"\\rProgram is running /\",end=\"\")\\ntime.sleep(go_time)\\nprint(\"\\rProgram is running -\",end=\"\")\\ntime.sleep(go_time)\\nprint(\"\\rProgram is running \\\\\",end=\"\")\\ntime.sleep(go_time)\\n'"
      ]
     },
     "execution_count": 29,
     "metadata": {},
     "output_type": "execute_result"
    }
   ],
   "source": [
    "import curses\n",
    "import time\n",
    "\n",
    "def display(now_time, progress, music_playing=False):\n",
    "    if music_playing = True:\n",
    "        music_progress = progress\n",
    "    else:\n",
    "        music_progress = \".\"\n",
    "\n",
    "    now = datetime.now()\n",
    "    week = ['월', '화', '수', '목', '금', '토', '일']\n",
    "    now_ = \"{}/{} {} {}:{}:{}\".format(now.month, now.day, week[now.weekday()], now.hour, now.minute, now.second)\n",
    "        \n",
    "    stdscr.addstr(0,0, \"now time : {}\".format(now_))\n",
    "    stdscr.addstr(1,0, \"Program is running {}\".format(progress))\n",
    "    stdscr.addstr(2,0, \"Music playing {}\".format(music_progress))\n",
    "    stdscr.refresh()\n",
    "    pass\n",
    "\n",
    "\n",
    "\n",
    "try:\n",
    "    stdscr = curses.initscr()\n",
    "    curses.noecho()\n",
    "    curses.cbreak()\n",
    "\n",
    "\n",
    "    progress_list = [\"|\", \"/\",\"-\",\"\\\\\",\"|\",\"/\",\"-\",\"\\\\\"]\n",
    "    #while True:\n",
    "    for progress in progress_list:\n",
    "        now_time = datetime.now()\n",
    "        display(now_time, progress)\n",
    "        time.sleep(0.5)\n",
    "\n",
    "    \n",
    "finally:\n",
    "    \n",
    "    curses.echo()\n",
    "    curses.nocbreak()\n",
    "    curses.endwin()\n",
    "\n",
    "\"\"\"\n",
    "go_time = 0.5\n",
    "now = datetime.now()\n",
    "print(\"\\rProgram is running |\",end=\"\")\n",
    "time.sleep(go_time)\n",
    "print(\"\\rProgram is running /\",end=\"\")\n",
    "time.sleep(go_time)\n",
    "print(\"\\rProgram is running -\",end=\"\")\n",
    "time.sleep(go_time)\n",
    "print(\"\\rProgram is running |\",end=\"\")\n",
    "time.sleep(go_time)\n",
    "print(\"\\rProgram is running /\",end=\"\")\n",
    "time.sleep(go_time)\n",
    "print(\"\\rProgram is running -\",end=\"\")\n",
    "time.sleep(go_time)\n",
    "print(\"\\rProgram is running \\\\\",end=\"\")\n",
    "time.sleep(go_time)\n",
    "\"\"\""
   ]
  },
  {
   "cell_type": "code",
   "execution_count": 41,
   "metadata": {},
   "outputs": [
    {
     "name": "stdout",
     "output_type": "stream",
     "text": [
      "1/25 토 20:29:12\n"
     ]
    }
   ],
   "source": [
    "now = datetime.now()\n",
    "week = ['월', '화', '수', '목', '금', '토', '일']\n",
    "now_ = \"{}/{} {} {}:{}:{}\".format(now.month, now.day, week[now.weekday()], now.hour, now.minute, now.second)\n",
    "print(now_)"
   ]
  },
  {
   "cell_type": "code",
   "execution_count": 39,
   "metadata": {},
   "outputs": [
    {
     "ename": "IndexError",
     "evalue": "tuple index out of range",
     "output_type": "error",
     "traceback": [
      "\u001b[0;31m---------------------------------------------------------------------------\u001b[0m",
      "\u001b[0;31mIndexError\u001b[0m                                Traceback (most recent call last)",
      "\u001b[0;32m<ipython-input-39-ef1ba7ffefbc>\u001b[0m in \u001b[0;36m<module>\u001b[0;34m\u001b[0m\n\u001b[0;32m----> 1\u001b[0;31m \u001b[0;34m\"{}-{} {} {}:{}:{}\"\u001b[0m\u001b[0;34m.\u001b[0m\u001b[0mformat\u001b[0m\u001b[0;34m(\u001b[0m\u001b[0mnow\u001b[0m\u001b[0;34m.\u001b[0m\u001b[0mmonth\u001b[0m\u001b[0;34m,\u001b[0m \u001b[0mnow\u001b[0m\u001b[0;34m.\u001b[0m\u001b[0mday\u001b[0m\u001b[0;34m,\u001b[0m \u001b[0mweek\u001b[0m\u001b[0;34m[\u001b[0m\u001b[0mnow\u001b[0m\u001b[0;34m.\u001b[0m\u001b[0mweekday\u001b[0m\u001b[0;34m(\u001b[0m\u001b[0;34m)\u001b[0m\u001b[0;34m]\u001b[0m\u001b[0;34m,\u001b[0m \u001b[0mnow\u001b[0m\u001b[0;34m.\u001b[0m\u001b[0mhour\u001b[0m\u001b[0;34m,\u001b[0m \u001b[0mnow\u001b[0m\u001b[0;34m.\u001b[0m\u001b[0mminute\u001b[0m\u001b[0;34m)\u001b[0m\u001b[0;34m\u001b[0m\u001b[0;34m\u001b[0m\u001b[0m\n\u001b[0m",
      "\u001b[0;31mIndexError\u001b[0m: tuple index out of range"
     ]
    }
   ],
   "source": [
    "\"{}-{} {} {}:{}:{}\".format(now.month, now.day, week[now.weekday()], now.hour, now.minute)"
   ]
  },
  {
   "cell_type": "code",
   "execution_count": 43,
   "metadata": {},
   "outputs": [
    {
     "name": "stdout",
     "output_type": "stream",
     "text": [
      "['Music off', 'LED on']\n"
     ]
    }
   ],
   "source": [
    "print([\"Music off\"] + [\"LED on\"])"
   ]
  },
  {
   "cell_type": "code",
   "execution_count": 59,
   "metadata": {},
   "outputs": [
    {
     "data": {
      "text/plain": [
       "'01/25 토 21:05:52'"
      ]
     },
     "execution_count": 59,
     "metadata": {},
     "output_type": "execute_result"
    }
   ],
   "source": [
    "now = datetime.now()\n",
    "week = ['월', '화', '수', '목', '금', '토', '일']\n",
    "now_ = \"{.month:02}/{.day:02} {} {.hour:02}:{.minute:02}:{.second:02}\".format(now, now, week[now.weekday()], now, now, now)\n",
    "now_"
   ]
  },
  {
   "cell_type": "code",
   "execution_count": 61,
   "metadata": {},
   "outputs": [],
   "source": [
    "def timer(hour, minute):\n",
    "    if minute == 33 and hour == 19:\n",
    "        print(datetime.now())\n",
    "        return True\n",
    "    return False"
   ]
  },
  {
   "cell_type": "code",
   "execution_count": 67,
   "metadata": {},
   "outputs": [
    {
     "name": "stdout",
     "output_type": "stream",
     "text": [
      "03, 15\n"
     ]
    }
   ],
   "source": [
    "tmp = [3,15]\n",
    "print(\"{:02}, {:02}\".format(tmp[0],tmp[1]))"
   ]
  }
 ],
 "metadata": {
  "kernelspec": {
   "display_name": "Python 3",
   "language": "python",
   "name": "python3"
  },
  "language_info": {
   "codemirror_mode": {
    "name": "ipython",
    "version": 3
   },
   "file_extension": ".py",
   "mimetype": "text/x-python",
   "name": "python",
   "nbconvert_exporter": "python",
   "pygments_lexer": "ipython3",
   "version": "3.7.3"
  }
 },
 "nbformat": 4,
 "nbformat_minor": 4
}
